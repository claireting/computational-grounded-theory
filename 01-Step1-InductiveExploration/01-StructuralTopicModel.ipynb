{
 "cells": [
  {
   "cell_type": "markdown",
   "metadata": {},
   "source": [
    "Reproduces Topic Modeling example. This code produces the output used in Table 3."
   ]
  },
  {
   "cell_type": "code",
   "execution_count": 6,
   "metadata": {},
   "outputs": [
    {
     "data": {
      "text/html": [
       "<ol class=list-inline>\n",
       "\t<li>'X'</li>\n",
       "\t<li>'doc'</li>\n",
       "\t<li>'city'</li>\n",
       "\t<li>'publication'</li>\n",
       "\t<li>'date'</li>\n",
       "\t<li>'word_count'</li>\n",
       "\t<li>'org'</li>\n",
       "\t<li>'identifier'</li>\n",
       "\t<li>'wave'</li>\n",
       "\t<li>'text_string'</li>\n",
       "</ol>\n"
      ],
      "text/latex": [
       "\\begin{enumerate*}\n",
       "\\item 'X'\n",
       "\\item 'doc'\n",
       "\\item 'city'\n",
       "\\item 'publication'\n",
       "\\item 'date'\n",
       "\\item 'word\\_count'\n",
       "\\item 'org'\n",
       "\\item 'identifier'\n",
       "\\item 'wave'\n",
       "\\item 'text\\_string'\n",
       "\\end{enumerate*}\n"
      ],
      "text/markdown": [
       "1. 'X'\n",
       "2. 'doc'\n",
       "3. 'city'\n",
       "4. 'publication'\n",
       "5. 'date'\n",
       "6. 'word_count'\n",
       "7. 'org'\n",
       "8. 'identifier'\n",
       "9. 'wave'\n",
       "10. 'text_string'\n",
       "\n",
       "\n"
      ],
      "text/plain": [
       " [1] \"X\"           \"doc\"         \"city\"        \"publication\" \"date\"       \n",
       " [6] \"word_count\"  \"org\"         \"identifier\"  \"wave\"        \"text_string\""
      ]
     },
     "metadata": {},
     "output_type": "display_data"
    }
   ],
   "source": [
    "library(stm)\n",
    "\n",
    "### Load Data\n",
    "df <- read.csv('../data/computationalgroundedtheory_dataset.csv', sep='\\t')\n",
    "names(df)"
   ]
  },
  {
   "cell_type": "code",
   "execution_count": 7,
   "metadata": {},
   "outputs": [
    {
     "name": "stdout",
     "output_type": "stream",
     "text": [
      "Building corpus... \n",
      "Converting to Lower Case... \n",
      "Removing stopwords... \n",
      "Removing numbers... \n",
      "Removing punctuation... \n",
      "Stemming... \n",
      "Creating Output... \n",
      "Removing 11787 of 21813 terms (11787 of 232393 tokens) due to frequency \n",
      "Your corpus now has 1018 documents, 10026 terms and 220606 tokens."
     ]
    }
   ],
   "source": [
    "\n",
    "####################################\n",
    "######### Pre-processing ###########\n",
    "####################################\n",
    "\n",
    "\n",
    "temp<-textProcessor(documents=df$text_string,metadata=df)\n",
    "meta<-temp$meta\n",
    "vocab<-temp$vocab\n",
    "docs<-temp$documents\n",
    "out <- prepDocuments(docs, vocab, meta)\n",
    "docs<-out$documents\n",
    "vocab<-out$vocab\n",
    "meta <-out$meta\n",
    "\n",
    "set.seed(02138)\n",
    "\n",
    "#plotRemoved(out$documents,lower.thresh=seq(1,200,by=100))\n"
   ]
  },
  {
   "cell_type": "code",
   "execution_count": null,
   "metadata": {
    "collapsed": true
   },
   "outputs": [],
   "source": [
    "##################################\n",
    "######### Choose Model ###########\n",
    "##################################\n",
    "\n",
    "\n",
    "### Model search across numbers of topics\n",
    "\n",
    "\n",
    "storage <- manyTopics(docs,vocab,K=c(20,30,40,50), prevalence=~org, data=meta,seed = 22222)\n",
    "#mean(storage$exclusivity[[3]])\n",
    "\n",
    "\n",
    "\n",
    "mod.20 <- storage$out[[1]]\n",
    "mod.30 <- storage$out[[2]] \n",
    "mod.40 <- storage$out[[3]] \n",
    "mod.50 <- storage$out[[4]] \n",
    "\n",
    "#save.image(\"stm2.RData\")"
   ]
  },
  {
   "cell_type": "code",
   "execution_count": null,
   "metadata": {
    "collapsed": true
   },
   "outputs": [],
   "source": []
  },
  {
   "cell_type": "code",
   "execution_count": null,
   "metadata": {
    "collapsed": true
   },
   "outputs": [],
   "source": [
    "#save the model for further use\n",
    "save.image(\"../data/stm2.RData\")"
   ]
  }
 ],
 "metadata": {
  "kernelspec": {
   "display_name": "R",
   "language": "R",
   "name": "ir"
  },
  "language_info": {
   "codemirror_mode": "r",
   "file_extension": ".r",
   "mimetype": "text/x-r-source",
   "name": "R",
   "pygments_lexer": "r",
   "version": "3.3.1"
  }
 },
 "nbformat": 4,
 "nbformat_minor": 2
}
